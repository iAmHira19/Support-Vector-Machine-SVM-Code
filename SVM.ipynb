{
  "nbformat": 4,
  "nbformat_minor": 0,
  "metadata": {
    "colab": {
      "provenance": [],
      "include_colab_link": true
    },
    "kernelspec": {
      "name": "python3",
      "display_name": "Python 3"
    },
    "language_info": {
      "name": "python"
    }
  },
  "cells": [
    {
      "cell_type": "markdown",
      "metadata": {
        "id": "view-in-github",
        "colab_type": "text"
      },
      "source": [
        "<a href=\"https://colab.research.google.com/github/iAmHira19/Support-Vector-Machine-SVM-Code/blob/main/SVM.ipynb\" target=\"_parent\"><img src=\"https://colab.research.google.com/assets/colab-badge.svg\" alt=\"Open In Colab\"/></a>"
      ]
    },
    {
      "cell_type": "code",
      "execution_count": 1,
      "metadata": {
        "colab": {
          "base_uri": "https://localhost:8080/"
        },
        "id": "_4fMPHkxTXTr",
        "outputId": "7143a682-732a-4abb-ccc9-43b6dadda705"
      },
      "outputs": [
        {
          "output_type": "stream",
          "name": "stdout",
          "text": [
            "Accuracy: 96.67%\n",
            "\n",
            "Classification Report:\n",
            "              precision    recall  f1-score   support\n",
            "\n",
            "           0       1.00      1.00      1.00        10\n",
            "           1       1.00      0.89      0.94         9\n",
            "           2       0.92      1.00      0.96        11\n",
            "\n",
            "    accuracy                           0.97        30\n",
            "   macro avg       0.97      0.96      0.97        30\n",
            "weighted avg       0.97      0.97      0.97        30\n",
            "\n",
            "\n",
            "Confusion Matrix:\n",
            "[[10  0  0]\n",
            " [ 0  8  1]\n",
            " [ 0  0 11]]\n"
          ]
        }
      ],
      "source": [
        "# Import necessary libraries\n",
        "import numpy as np\n",
        "from sklearn import datasets  # To load the Iris dataset\n",
        "from sklearn.model_selection import train_test_split  # To split the dataset into training and testing sets\n",
        "from sklearn.preprocessing import StandardScaler  # To standardize the feature data\n",
        "from sklearn.svm import SVC  # SVM classifier\n",
        "from sklearn.metrics import accuracy_score, classification_report, confusion_matrix  # To evaluate the model\n",
        "\n",
        "# Load the Iris dataset\n",
        "# The Iris dataset contains 150 samples of iris flowers, with 4 features (sepal length, sepal width, petal length, petal width) and 3 classes (species)\n",
        "iris = datasets.load_iris()\n",
        "\n",
        "# X contains the feature data, y contains the labels (the target variable)\n",
        "X = iris.data\n",
        "y = iris.target\n",
        "\n",
        "# Split the dataset into training and testing sets\n",
        "# train_test_split is used to split the dataset into a training set (80%) and a testing set (20%)\n",
        "X_train, X_test, y_train, y_test = train_test_split(X, y, test_size=0.2, random_state=42)\n",
        "\n",
        "# Standardize the feature data\n",
        "# StandardScaler scales the data to have zero mean and unit variance, which is important for SVM as it is sensitive to the scale of the features\n",
        "scaler = StandardScaler()\n",
        "X_train = scaler.fit_transform(X_train)\n",
        "X_test = scaler.transform(X_test)\n",
        "\n",
        "# Create an SVM classifier\n",
        "# SVC stands for Support Vector Classification\n",
        "# The kernel parameter specifies the kernel type to be used in the algorithm ('linear', 'poly', 'rbf', 'sigmoid')\n",
        "# C is the regularization parameter; it controls the trade-off between achieving a low error on the training data and minimizing the model complexity\n",
        "# gamma defines how far the influence of a single training example reaches (only for 'rbf', 'poly', and 'sigmoid')\n",
        "svm = SVC(kernel='linear', C=1.0, gamma='auto')\n",
        "\n",
        "# Train the SVM classifier on the training data\n",
        "svm.fit(X_train, y_train)\n",
        "\n",
        "# Predict the labels of the test data\n",
        "y_pred = svm.predict(X_test)\n",
        "\n",
        "# Evaluate the model\n",
        "# accuracy_score calculates the proportion of correctly classified instances\n",
        "accuracy = accuracy_score(y_test, y_pred)\n",
        "print(f\"Accuracy: {accuracy * 100:.2f}%\")\n",
        "\n",
        "# classification_report provides a detailed report including precision, recall, f1-score for each class\n",
        "print(\"\\nClassification Report:\")\n",
        "print(classification_report(y_test, y_pred))\n",
        "\n",
        "# confusion_matrix shows the performance of the classifier in a matrix format\n",
        "# Rows represent the actual classes, and columns represent the predicted classes\n",
        "print(\"\\nConfusion Matrix:\")\n",
        "print(confusion_matrix(y_test, y_pred))\n"
      ]
    }
  ]
}